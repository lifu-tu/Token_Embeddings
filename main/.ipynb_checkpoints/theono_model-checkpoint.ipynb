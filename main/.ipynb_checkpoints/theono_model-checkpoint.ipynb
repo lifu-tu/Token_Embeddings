{
 "cells": [
  {
   "cell_type": "code",
   "execution_count": 2,
   "metadata": {
    "collapsed": false
   },
   "outputs": [],
   "source": [
    "import theano\n",
    "import numpy as np\n",
    "from theano import tensor as T\n",
    "from theano.ifelse import ifelse\n",
    "import random as random"
   ]
  },
  {
   "cell_type": "code",
   "execution_count": 7,
   "metadata": {
    "collapsed": true
   },
   "outputs": [],
   "source": [
    "class theano_word_model(object):\n",
    "\n",
    "    def __init__(self, We_initial):\n",
    "        self.initial_We = theano.shared(We_initial)\n",
    "        self.We = theano.shared(We_initial)\n",
    "        self.We_ada = theano.shared(value=np.zeros(We_initial.shape, dtype=theano.config.floatX))\n",
    "        self.gg = T.dmatrix()\n",
    "        self.idx1 = T.ivector()\n",
    "        self.idx2 = T.ivector()\n",
    "        self.zero = theano.shared(0.)\n",
    "        self.lam = T.dscalar()\n",
    "        self.eta = T.dscalar()\n",
    "        self.n = T.dscalar()\n",
    "        self.label = T.dscalar()\n",
    "\n",
    "        self.x1 = self.We[self.idx1[0],:]\n",
    "        self.x2 = self.We[self.idx1[1],:]\n",
    "        self.t1 = self.We[self.idx2[0],:]\n",
    "        self.t2 = self.We[self.idx2[1],:]\n",
    "\n",
    "        self.nx1 = T.sqrt(T.sum(self.x1**2))\n",
    "        self.nx2 = T.sqrt(T.sum(self.x2**2))\n",
    "        self.nt1 = T.sqrt(T.sum(self.t1**2))\n",
    "        self.nt2 = T.sqrt(T.sum(self.t2**2))\n",
    "\n",
    "        #self.s1 = 1-self.label*T.dot(self.x1,self.x2)+T.dot(self.t1,self.x1)\n",
    "        #self.s2 = 1-self.label*T.dot(self.x1,self.x2)+T.dot(self.t2,self.x2)\n",
    "\n",
    "        self.s1 = 1-self.label*T.dot(self.x1,self.x2) / (self.nx1*self.nx2) + T.dot(self.t1,self.x1) / (self.nx1*self.nt1)\n",
    "        self.s2 = 1-self.label*T.dot(self.x1,self.x2) / (self.nx1*self.nx2) + T.dot(self.t2,self.x2) / (self.nx2*self.nt2)\n",
    "        self.d1 = ifelse(T.lt(self.s1,self.zero), self.zero, self.s1)\n",
    "        self.d2 = ifelse(T.lt(self.s2,self.zero), self.zero, self.s2)\n",
    "\n",
    "        self.cost_part_one = self.d1 + self.d2\n",
    "        self.cost_part_two = self.lam/2.*T.sum((self.We-self.initial_We)**2)\n",
    "\n",
    "        self.grad_one = theano.function(inputs=[self.idx1, self.idx2, self.label], outputs = T.grad(self.cost_part_one, self.We))\n",
    "        self.grad_two = theano.function(inputs=[self.lam], outputs = T.grad(self.cost_part_two, self.We))\n",
    "\n",
    "        self.cost_1 = theano.function(inputs=[self.idx1, self.idx2, self.label], outputs = self.cost_part_one)\n",
    "        self.cost_2 = theano.function(inputs=[self.lam], outputs = self.cost_part_two)\n",
    "\n",
    "\n",
    "        self.updateAda = theano.function(inputs=[self.gg], updates=[( self.We_ada,  self.We_ada + (self.gg)**2)])\n",
    "        self.updateWe = theano.function(inputs=[self.gg, self.eta], updates=[( self.We, self.We- self.eta*(self.gg)/(1E-4 + T.sqrt( self.We_ada)))])\n",
    "\n",
    "    def updateBatchParams(self,d,p,eta,lam):\n",
    "        gg = 0.\n",
    "        for i in range(len(d)):\n",
    "            (id1, id2, l) =d[i]\n",
    "            idxs = (id1,id2)\n",
    "            gg += self.grad_one(idxs,p[i],l)\n",
    "        gg = gg/len(d)\n",
    "        gg = gg + self.grad_two(lam)\n",
    "        self.updateAda(gg)\n",
    "        self.updateWe(gg,eta)\n",
    "\n",
    "    def getBatchCost(self,d,p,lam):\n",
    "        cost = 0\n",
    "        for i in range(len(d)):\n",
    "            #print d[i]\n",
    "            (id1, id2, l) =d[i]\n",
    "            idxs = (id1,id2)\n",
    "            cost += self.cost_1(idxs,p[i],l)\n",
    "        return cost/len(d) + self.cost_2(lam)\n",
    "\n",
    "    def getWe(self):\n",
    "        return self.We.get_value()"
   ]
  },
  {
   "cell_type": "code",
   "execution_count": 33,
   "metadata": {
    "collapsed": false
   },
   "outputs": [],
   "source": [
    "a = np.zeros((50,50))\n",
    "for i in range(50):\n",
    "    a[i][i]=1+random.uniform(-0.2,0.2)\n",
    "    for j in range(50):\n",
    "        if(i!=j):\n",
    "            a[i][j] = random.uniform(-0.2,0.2)\n",
    "a1 = np.zeros((50,50))\n",
    "for i in range(50):\n",
    "    a1[i][i]=1+random.uniform(-0.2,0.2)\n",
    "    for j in range(50):\n",
    "        if(i!=j):\n",
    "            a1[i][j] = random.uniform(-0.2,0.2)\n",
    "a2 = np.zeros((50,50))\n",
    "for i in range(50):\n",
    "    a2[i][i]=1+random.uniform(-0.2,0.2)\n",
    "    for j in range(50):\n",
    "        if(i!=j):\n",
    "            a2[i][j] = random.uniform(-0.2,0.2)\n",
    "a3 = np.zeros((50,50))\n",
    "for i in range(50):\n",
    "    a3[i][i]=1+random.uniform(-0.2,0.2)\n",
    "    for j in range(50):\n",
    "        if(i!=j):\n",
    "            a3[i][j] = random.uniform(-0.2,0.2)\n",
    "a4 = np.zeros((50,50))\n",
    "for i in range(50):\n",
    "    a4[i][i]=1+random.uniform(-0.2,0.2)\n",
    "    for j in range(50):\n",
    "        if(i!=j):\n",
    "            a4[i][j] = random.uniform(-0.2,0.2)\n",
    "a5 = np.zeros((50,50))\n",
    "for i in range(50):\n",
    "    a5[i][i]=1+random.uniform(-0.2,0.2)\n",
    "    for j in range(50):\n",
    "        if(i!=j):\n",
    "            a5[i][j] = random.uniform(-0.2,0.2)"
   ]
  },
  {
   "cell_type": "code",
   "execution_count": 34,
   "metadata": {
    "collapsed": false,
    "scrolled": true
   },
   "outputs": [
    {
     "name": "stdout",
     "output_type": "stream",
     "text": [
      "[[  9.41635958e-01   4.85516945e-02  -1.15572970e-01 ...,  -2.79821901e-02\n",
      "   -1.66786425e-01   1.63457515e-01]\n",
      " [ -1.11917255e-01   8.31553754e-01   7.35121451e-02 ...,  -1.82190089e-01\n",
      "    1.64161788e-01  -2.69425714e-02]\n",
      " [ -6.81945996e-02  -7.85770197e-02   1.17915680e+00 ...,   2.08405602e-02\n",
      "    1.35810259e-01  -3.14545416e-03]\n",
      " ..., \n",
      " [ -3.45708532e-02   9.38009017e-02   8.00251362e-02 ...,   8.69330024e-01\n",
      "    6.12519813e-02  -6.21962474e-04]\n",
      " [ -4.39053931e-02   4.49742812e-02   1.67261567e-01 ...,   1.60444347e-01\n",
      "    1.00645899e+00  -1.49340880e-02]\n",
      " [  1.61881863e-01   2.05868344e-02  -1.93690902e-01 ...,  -1.70693937e-01\n",
      "   -7.21755687e-02   8.65826949e-01]] [[ 0.80452464 -0.06084694  0.14471446 ...,  0.10702843 -0.13372482\n",
      "  -0.02833735]\n",
      " [-0.09290334  1.1030569   0.04132969 ..., -0.10619344 -0.03661638\n",
      "   0.08964933]\n",
      " [-0.14365005  0.07430776  1.1708964  ..., -0.17479569  0.03135911\n",
      "   0.05844798]\n",
      " ..., \n",
      " [-0.08269858 -0.02854565 -0.10911506 ...,  1.17875939 -0.01936676\n",
      "  -0.02774816]\n",
      " [ 0.16021136 -0.05655559  0.12077822 ...,  0.10317263  0.97357372\n",
      "   0.131795  ]\n",
      " [-0.12454427 -0.07403538  0.12148254 ...,  0.09453892  0.08463642\n",
      "   0.97195069]] [[ 0.93001089  0.11651043 -0.04918365 ...,  0.16132064 -0.18807058\n",
      "   0.16370022]\n",
      " [ 0.14890338  1.05643256  0.16138829 ..., -0.18344063  0.05575727\n",
      "   0.00846351]\n",
      " [ 0.08456307 -0.08512353  0.84020846 ...,  0.08940751 -0.19385992\n",
      "   0.19748071]\n",
      " ..., \n",
      " [ 0.1731938   0.0753119  -0.12922684 ...,  0.8140284   0.03216896\n",
      "   0.12385663]\n",
      " [-0.18291792 -0.04654438 -0.15175632 ...,  0.09083853  1.11899517\n",
      "  -0.19729257]\n",
      " [-0.07636348 -0.03968218  0.15260699 ..., -0.03248604  0.15669842\n",
      "   0.98087368]] [[ 0.81553833 -0.01188255  0.17192392 ..., -0.13299723 -0.00927468\n",
      "   0.13332977]\n",
      " [ 0.05893169  0.83320913 -0.18787651 ..., -0.0116651  -0.11271227\n",
      "  -0.09605075]\n",
      " [-0.02807221 -0.14132134  1.1076201  ..., -0.01967508 -0.17884171\n",
      "  -0.18693198]\n",
      " ..., \n",
      " [ 0.19877954  0.0489856   0.03412522 ...,  0.80200691 -0.01226201\n",
      "   0.10001909]\n",
      " [ 0.09719624  0.16148278 -0.09139239 ...,  0.07829773  0.89427216\n",
      "  -0.03924519]\n",
      " [ 0.1146498  -0.01079414 -0.0841623  ..., -0.01608956  0.17097776\n",
      "   0.80305245]] [[ 1.08224378  0.19515793 -0.05091167 ..., -0.08685582 -0.00119308\n",
      "  -0.17562423]\n",
      " [ 0.01904095  1.03602773 -0.04221975 ...,  0.07948319 -0.01637388\n",
      "   0.05576404]\n",
      " [-0.09368654 -0.13131383  1.09374842 ...,  0.11897162  0.02966606\n",
      "  -0.09187655]\n",
      " ..., \n",
      " [ 0.08183854 -0.14339128 -0.15422767 ...,  0.83404552 -0.13638084\n",
      "  -0.18128578]\n",
      " [-0.06788369  0.07480701 -0.04203134 ..., -0.09940185  1.0491276\n",
      "  -0.09728107]\n",
      " [-0.09836338 -0.015616    0.14629321 ..., -0.12121395  0.02069563\n",
      "   1.11899063]] [[  1.06338922e+00  -1.50619131e-01   1.79049923e-01 ...,   8.97622031e-02\n",
      "    2.58173283e-02  -1.69218591e-01]\n",
      " [ -1.96826848e-01   1.16717862e+00   9.78415639e-03 ...,  -8.95746574e-02\n",
      "    1.74132341e-01   1.75867523e-01]\n",
      " [ -6.86118912e-04  -1.01554168e-01   8.30647016e-01 ...,   1.74289421e-01\n",
      "   -3.64690091e-02   1.33252607e-01]\n",
      " ..., \n",
      " [  9.18734810e-02   8.23266147e-02  -1.72471598e-01 ...,   1.01965752e+00\n",
      "   -9.69922025e-02   1.92286705e-02]\n",
      " [ -2.07586200e-02  -7.31196855e-02  -3.66141317e-02 ...,   1.73469863e-01\n",
      "    1.10671655e+00   6.19187371e-02]\n",
      " [  4.21760924e-03   8.86685937e-03  -3.17001109e-03 ...,   2.95150045e-02\n",
      "   -1.17494933e-01   1.17402219e+00]]\n"
     ]
    }
   ],
   "source": [
    "print a,a1,a2,a3,a4,a5"
   ]
  },
  {
   "cell_type": "code",
   "execution_count": 35,
   "metadata": {
    "collapsed": false
   },
   "outputs": [],
   "source": [
    "c = theano.shared(np.array([a,a1,a2,a3,a4,a5,a,a1,a2,a3,a4,a5,a,a1,a2,a3,a4,a5,a,a1,a2,a3,a4,a5,a,a1,a2,a3,a4,a5,a]))"
   ]
  },
  {
   "cell_type": "code",
   "execution_count": 37,
   "metadata": {
    "collapsed": false,
    "scrolled": true
   },
   "outputs": [
    {
     "data": {
      "text/plain": [
       "array([[  9.41635958e-01,   4.85516945e-02,  -1.15572970e-01, ...,\n",
       "         -2.79821901e-02,  -1.66786425e-01,   1.63457515e-01],\n",
       "       [ -1.11917255e-01,   8.31553754e-01,   7.35121451e-02, ...,\n",
       "         -1.82190089e-01,   1.64161788e-01,  -2.69425714e-02],\n",
       "       [ -6.81945996e-02,  -7.85770197e-02,   1.17915680e+00, ...,\n",
       "          2.08405602e-02,   1.35810259e-01,  -3.14545416e-03],\n",
       "       ..., \n",
       "       [ -3.45708532e-02,   9.38009017e-02,   8.00251362e-02, ...,\n",
       "          8.69330024e-01,   6.12519813e-02,  -6.21962474e-04],\n",
       "       [ -4.39053931e-02,   4.49742812e-02,   1.67261567e-01, ...,\n",
       "          1.60444347e-01,   1.00645899e+00,  -1.49340880e-02],\n",
       "       [  1.61881863e-01,   2.05868344e-02,  -1.93690902e-01, ...,\n",
       "         -1.70693937e-01,  -7.21755687e-02,   8.65826949e-01]])"
      ]
     },
     "execution_count": 37,
     "metadata": {},
     "output_type": "execute_result"
    }
   ],
   "source": [
    "c.get_value()[0]"
   ]
  },
  {
   "cell_type": "code",
   "execution_count": 8,
   "metadata": {
    "collapsed": false
   },
   "outputs": [
    {
     "ename": "TypeError",
     "evalue": "('Bad input argument to theano function with name \"<ipython-input-8-41beb6b88c6c>:4\"  at index 0(0-based)', 'Expected an array-like object, but found a Variable: maybe you are trying to call a function on a (possibly shared) variable instead of a numeric array?')",
     "output_type": "error",
     "traceback": [
      "\u001b[0;31m---------------------------------------------------------------------------\u001b[0m",
      "\u001b[0;31mTypeError\u001b[0m                                 Traceback (most recent call last)",
      "\u001b[0;32m<ipython-input-8-41beb6b88c6c>\u001b[0m in \u001b[0;36m<module>\u001b[0;34m()\u001b[0m\n\u001b[1;32m      3\u001b[0m \u001b[0ms1\u001b[0m \u001b[0;34m=\u001b[0m \u001b[0mT\u001b[0m\u001b[0;34m.\u001b[0m\u001b[0mdot\u001b[0m\u001b[0;34m(\u001b[0m\u001b[0mt_v\u001b[0m\u001b[0;34m,\u001b[0m\u001b[0mt_c\u001b[0m\u001b[0;34m)\u001b[0m\u001b[0;34m\u001b[0m\u001b[0m\n\u001b[1;32m      4\u001b[0m \u001b[0mcost_1\u001b[0m \u001b[0;34m=\u001b[0m \u001b[0mtheano\u001b[0m\u001b[0;34m.\u001b[0m\u001b[0mfunction\u001b[0m\u001b[0;34m(\u001b[0m\u001b[0minputs\u001b[0m\u001b[0;34m=\u001b[0m\u001b[0;34m[\u001b[0m\u001b[0mt_v\u001b[0m\u001b[0;34m,\u001b[0m\u001b[0mt_c\u001b[0m\u001b[0;34m]\u001b[0m\u001b[0;34m,\u001b[0m \u001b[0moutputs\u001b[0m \u001b[0;34m=\u001b[0m \u001b[0ms1\u001b[0m\u001b[0;34m)\u001b[0m\u001b[0;34m\u001b[0m\u001b[0m\n\u001b[0;32m----> 5\u001b[0;31m \u001b[0;32mprint\u001b[0m \u001b[0mcost_1\u001b[0m\u001b[0;34m(\u001b[0m\u001b[0mv1\u001b[0m\u001b[0;34m,\u001b[0m\u001b[0mc\u001b[0m\u001b[0;34m[\u001b[0m\u001b[0;36m0\u001b[0m\u001b[0;34m]\u001b[0m\u001b[0;34m)\u001b[0m\u001b[0;34m\u001b[0m\u001b[0m\n\u001b[0m",
      "\u001b[0;32m/Users/temp/Library/Enthought/Canopy_64bit/User/lib/python2.7/site-packages/theano/compile/function_module.pyc\u001b[0m in \u001b[0;36m__call__\u001b[0;34m(self, *args, **kwargs)\u001b[0m\n\u001b[1;32m    511\u001b[0m                     \u001b[0;32mtry\u001b[0m\u001b[0;34m:\u001b[0m\u001b[0;34m\u001b[0m\u001b[0m\n\u001b[1;32m    512\u001b[0m                         s.storage[0] = s.type.filter(arg, strict=s.strict,\n\u001b[0;32m--> 513\u001b[0;31m                                 allow_downcast=s.allow_downcast)\n\u001b[0m\u001b[1;32m    514\u001b[0m \u001b[0;34m\u001b[0m\u001b[0m\n\u001b[1;32m    515\u001b[0m                     \u001b[0;32mexcept\u001b[0m \u001b[0mException\u001b[0m\u001b[0;34m,\u001b[0m \u001b[0me\u001b[0m\u001b[0;34m:\u001b[0m\u001b[0;34m\u001b[0m\u001b[0m\n",
      "\u001b[0;32m/Users/temp/Library/Enthought/Canopy_64bit/User/lib/python2.7/site-packages/theano/tensor/type.pyc\u001b[0m in \u001b[0;36mfilter\u001b[0;34m(self, data, strict, allow_downcast)\u001b[0m\n\u001b[1;32m     76\u001b[0m         \u001b[0;32mif\u001b[0m \u001b[0misinstance\u001b[0m\u001b[0;34m(\u001b[0m\u001b[0mdata\u001b[0m\u001b[0;34m,\u001b[0m \u001b[0mVariable\u001b[0m\u001b[0;34m)\u001b[0m\u001b[0;34m:\u001b[0m\u001b[0;34m\u001b[0m\u001b[0m\n\u001b[1;32m     77\u001b[0m             raise TypeError(\n\u001b[0;32m---> 78\u001b[0;31m                     \u001b[0;34m'Expected an array-like object, but found a Variable: '\u001b[0m\u001b[0;34m\u001b[0m\u001b[0m\n\u001b[0m\u001b[1;32m     79\u001b[0m                     \u001b[0;34m'maybe you are trying to call a function on a (possibly '\u001b[0m\u001b[0;34m\u001b[0m\u001b[0m\n\u001b[1;32m     80\u001b[0m                     'shared) variable instead of a numeric array?')\n",
      "\u001b[0;31mTypeError\u001b[0m: ('Bad input argument to theano function with name \"<ipython-input-8-41beb6b88c6c>:4\"  at index 0(0-based)', 'Expected an array-like object, but found a Variable: maybe you are trying to call a function on a (possibly shared) variable instead of a numeric array?')"
     ]
    }
   ],
   "source": []
  },
  {
   "cell_type": "code",
   "execution_count": null,
   "metadata": {
    "collapsed": true
   },
   "outputs": [],
   "source": []
  }
 ],
 "metadata": {
  "kernelspec": {
   "display_name": "Python 2",
   "language": "python",
   "name": "python2"
  },
  "language_info": {
   "codemirror_mode": {
    "name": "ipython",
    "version": 2
   },
   "file_extension": ".py",
   "mimetype": "text/x-python",
   "name": "python",
   "nbconvert_exporter": "python",
   "pygments_lexer": "ipython2",
   "version": "2.7.9"
  }
 },
 "nbformat": 4,
 "nbformat_minor": 0
}
